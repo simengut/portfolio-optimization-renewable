{
 "cells": [
  {
   "cell_type": "code",
   "execution_count": 1,
   "metadata": {},
   "outputs": [
    {
     "name": "stdout",
     "output_type": "stream",
     "text": [
      "Loading library list...\n",
      "Done\n"
     ]
    }
   ],
   "source": [
    "import wrds\n",
    "conn = wrds.Connection(wrds_username=\"simengut\")\n"
   ]
  },
  {
   "cell_type": "code",
   "execution_count": 60,
   "metadata": {},
   "outputs": [
    {
     "name": "stdout",
     "output_type": "stream",
     "text": [
      "        date     exdate cp_flag  strike   bid   ask  volume\n",
      "0 2010-02-10 2010-02-20       C     8.0   1.0   1.5     0.0\n",
      "1 2010-03-09 2010-04-17       P    13.0   3.0   3.4     0.0\n",
      "2 2010-03-09 2010-04-17       P    14.0   4.0   4.4     0.0\n",
      "3 2010-03-09 2010-04-17       P    15.0   5.0   5.4     0.0\n",
      "4 2010-01-04 2010-02-20       C    10.0  1.25  1.45     0.0 \n",
      "1000 rows returned\n"
     ]
    }
   ],
   "source": [
    "one_month_sql = \"\"\"\n",
    "SELECT  o.date,\n",
    "        o.exdate,\n",
    "        o.cp_flag,\n",
    "        o.strike_price/1000.0  AS strike,\n",
    "        o.best_bid   AS bid,\n",
    "        o.best_offer AS ask,\n",
    "        o.volume\n",
    "FROM    optionm.opprcd2010   o\n",
    "JOIN    optionm.secnmd       s  USING (secid)\n",
    "WHERE   s.ticker = 'PBW'\n",
    "  AND   o.date     BETWEEN '2010-01-01' AND '2010-12-01'\n",
    "  AND   (o.exdate - o.date) BETWEEN 10 AND 100\n",
    "  LIMIT 1000;\n",
    "\"\"\"\n",
    "\n",
    "df = conn.raw_sql(one_month_sql, date_cols=[\"date\", \"exdate\"])\n",
    "print(df.head(), f\"\\n{len(df)} rows returned\")"
   ]
  },
  {
   "cell_type": "code",
   "execution_count": null,
   "metadata": {},
   "outputs": [],
   "source": []
  }
 ],
 "metadata": {
  "kernelspec": {
   "display_name": "test_env",
   "language": "python",
   "name": "python3"
  },
  "language_info": {
   "codemirror_mode": {
    "name": "ipython",
    "version": 3
   },
   "file_extension": ".py",
   "mimetype": "text/x-python",
   "name": "python",
   "nbconvert_exporter": "python",
   "pygments_lexer": "ipython3",
   "version": "3.10.13"
  }
 },
 "nbformat": 4,
 "nbformat_minor": 2
}
